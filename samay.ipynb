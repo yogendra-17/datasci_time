{
  "nbformat": 4,
  "nbformat_minor": 0,
  "metadata": {
    "colab": {
      "name": "samay.ipynb",
      "provenance": [],
      "collapsed_sections": [],
      "mount_file_id": "1NnlT7uHVWy7zF2kqQSvUKZEAPf7DLvrl",
      "authorship_tag": "ABX9TyOGlYLaArdCThxyaVNFZIZV",
      "include_colab_link": true
    },
    "kernelspec": {
      "name": "python3",
      "display_name": "Python 3"
    }
  },
  "cells": [
    {
      "cell_type": "markdown",
      "metadata": {
        "id": "view-in-github",
        "colab_type": "text"
      },
      "source": [
        "<a href=\"https://colab.research.google.com/github/kartikchoubisa/datasci_samay/blob/main/samay.ipynb\" target=\"_parent\"><img src=\"https://colab.research.google.com/assets/colab-badge.svg\" alt=\"Open In Colab\"/></a>"
      ]
    },
    {
      "cell_type": "code",
      "metadata": {
        "id": "iYzS-qnZpDfp"
      },
      "source": [
        "# todo \n",
        "# plot upload date vs search popularity data on same graph\n",
        "#more: use view count data somehow, cuz more viewcount on a video could mean more searches\n",
        "#\n"
      ],
      "execution_count": null,
      "outputs": []
    },
    {
      "cell_type": "code",
      "metadata": {
        "id": "tgTRSz7WpQkY"
      },
      "source": [
        "# !pip install --upgrade google-api-python-client\n",
        "key = 'secretsecret'\n",
        "channel_id = 'UCAov2BBv1ZJav0c_yHEciAw'"
      ],
      "execution_count": null,
      "outputs": []
    },
    {
      "cell_type": "code",
      "metadata": {
        "id": "bKkeSLvEMKpW"
      },
      "source": [
        "from apiclient.discovery import build\n",
        "youtube = build('youtube', 'v3', developerKey = key)"
      ],
      "execution_count": null,
      "outputs": []
    },
    {
      "cell_type": "code",
      "metadata": {
        "id": "SEdI92UYMaql"
      },
      "source": [
        "channel = youtube.channels().list(id = channel_id, part = 'contentDetails').execute()\n",
        "channel"
      ],
      "execution_count": null,
      "outputs": []
    },
    {
      "cell_type": "code",
      "metadata": {
        "id": "9S_6HkD0MzI-",
        "colab": {
          "base_uri": "https://localhost:8080/",
          "height": 35
        },
        "outputId": "d03e7c95-9c24-4a5f-ee05-947da9eae871"
      },
      "source": [
        "uploads_id = channel['items'][0]['contentDetails']['relatedPlaylists']['uploads']\n",
        "uploads_id"
      ],
      "execution_count": null,
      "outputs": [
        {
          "output_type": "execute_result",
          "data": {
            "application/vnd.google.colaboratory.intrinsic": {
              "type": "string"
            },
            "text/plain": [
              "'UUAov2BBv1ZJav0c_yHEciAw'"
            ]
          },
          "metadata": {
            "tags": []
          },
          "execution_count": 6
        }
      ]
    },
    {
      "cell_type": "code",
      "metadata": {
        "id": "qoKNhiMMTJ8m"
      },
      "source": [
        ""
      ],
      "execution_count": null,
      "outputs": []
    },
    {
      "cell_type": "code",
      "metadata": {
        "id": "m_UbulTcNo33"
      },
      "source": [
        "uploads1 = youtube.playlistItems().list(playlistId = uploads_id, part = 'snippet', maxResults = 50).execute()\n",
        "uploads2 = youtube.playlistItems().list(playlistId = uploads_id, part = 'snippet', maxResults = 50, pageToken = 'CDIQAA').execute()\n",
        "uploads3 = youtube.playlistItems().list(playlistId = uploads_id, part = 'snippet', maxResults = 50, pageToken = 'CGQQAA').execute()"
      ],
      "execution_count": null,
      "outputs": []
    },
    {
      "cell_type": "code",
      "metadata": {
        "id": "KNxcvdhZO5Ht"
      },
      "source": [
        "import pandas as pd\n",
        "import numpy as np\n",
        "from pprint import pprint\n",
        "\n",
        "# pprint(uploads3)\n",
        "uploads = uploads1['items']+uploads2['items']+uploads3['items']\n",
        "\n",
        "# print(len(uploads)) # 132\n",
        "df = pd.DataFrame({'position': [e['snippet']['position'] for e in uploads],\n",
        "                        'title': [e['snippet']['title'] for e in uploads],\n",
        "                        'date' : [e['snippet']['publishedAt'] for e in uploads]})\n",
        "# df = df.set_index('date')\n",
        "df = df.set_index(pd.to_datetime(df['date'])).drop('date', axis = 1)\n",
        "df.index = df.index.tz_convert('Asia/Kolkata')\n",
        "df['Date'] = df.index.strftime('%d %b, %y')\n",
        "# df = df.groupby([df.index.month.values, df.index.day.values]).count()\n",
        "# df = df.groupby(pd.Grouper(freq = 'M')).count()\n",
        "df['id'] = [e['snippet']['resourceId']['videoId'] for e in uploads]\n",
        "df"
      ],
      "execution_count": null,
      "outputs": []
    },
    {
      "cell_type": "code",
      "metadata": {
        "id": "bIeJ55C3rWG0",
        "colab": {
          "base_uri": "https://localhost:8080/",
          "height": 434
        },
        "outputId": "05d6c415-1475-415d-c356-e025d927da9a"
      },
      "source": [
        "df['views'] = df['id'].map(get_views)\n",
        "def get_views(id):\n",
        "  return youtube.videos().list(id = id, part = 'statistics').execute()['items'][0]['statistics']['viewCount']"
      ],
      "execution_count": null,
      "outputs": [
        {
          "output_type": "execute_result",
          "data": {
            "text/html": [
              "<div>\n",
              "<style scoped>\n",
              "    .dataframe tbody tr th:only-of-type {\n",
              "        vertical-align: middle;\n",
              "    }\n",
              "\n",
              "    .dataframe tbody tr th {\n",
              "        vertical-align: top;\n",
              "    }\n",
              "\n",
              "    .dataframe thead th {\n",
              "        text-align: right;\n",
              "    }\n",
              "</style>\n",
              "<table border=\"1\" class=\"dataframe\">\n",
              "  <thead>\n",
              "    <tr style=\"text-align: right;\">\n",
              "      <th></th>\n",
              "      <th>position</th>\n",
              "      <th>title</th>\n",
              "      <th>Date</th>\n",
              "      <th>id</th>\n",
              "      <th>views</th>\n",
              "    </tr>\n",
              "    <tr>\n",
              "      <th>date</th>\n",
              "      <th></th>\n",
              "      <th></th>\n",
              "      <th></th>\n",
              "      <th></th>\n",
              "      <th></th>\n",
              "    </tr>\n",
              "  </thead>\n",
              "  <tbody>\n",
              "    <tr>\n",
              "      <th>2020-07-17 11:17:30+05:30</th>\n",
              "      <td>0</td>\n",
              "      <td>CRASH COURSE: DISCORD</td>\n",
              "      <td>17 Jul, 20</td>\n",
              "      <td>dvHgASyhPSY</td>\n",
              "      <td>111208</td>\n",
              "    </tr>\n",
              "    <tr>\n",
              "      <th>2020-07-16 12:00:13+05:30</th>\n",
              "      <td>1</td>\n",
              "      <td>RAFTAAR vs EPR ft. Vidit Gujrathi</td>\n",
              "      <td>16 Jul, 20</td>\n",
              "      <td>RqLjf48_MVY</td>\n",
              "      <td>102524</td>\n",
              "    </tr>\n",
              "    <tr>\n",
              "      <th>2020-07-15 20:54:05+05:30</th>\n",
              "      <td>2</td>\n",
              "      <td>FLYING BEAST TRIES CHESS ft. Vidit, Sagar, Kar...</td>\n",
              "      <td>15 Jul, 20</td>\n",
              "      <td>W8H0b864T-o</td>\n",
              "      <td>279778</td>\n",
              "    </tr>\n",
              "    <tr>\n",
              "      <th>2020-07-14 17:34:53+05:30</th>\n",
              "      <td>3</td>\n",
              "      <td>Good evening chess - Road to 1250</td>\n",
              "      <td>14 Jul, 20</td>\n",
              "      <td>ma9710Su6RI</td>\n",
              "      <td>92365</td>\n",
              "    </tr>\n",
              "    <tr>\n",
              "      <th>2020-07-13 21:49:12+05:30</th>\n",
              "      <td>4</td>\n",
              "      <td>GM ROBERT HESS vs COMEDIANS ON BOARD ft. Anish...</td>\n",
              "      <td>13 Jul, 20</td>\n",
              "      <td>kLQiNov8sUU</td>\n",
              "      <td>122279</td>\n",
              "    </tr>\n",
              "    <tr>\n",
              "      <th>...</th>\n",
              "      <td>...</td>\n",
              "      <td>...</td>\n",
              "      <td>...</td>\n",
              "      <td>...</td>\n",
              "      <td>...</td>\n",
              "    </tr>\n",
              "    <tr>\n",
              "      <th>2020-03-25 03:58:51+05:30</th>\n",
              "      <td>127</td>\n",
              "      <td>PUBG with Ojas and Balraj</td>\n",
              "      <td>25 Mar, 20</td>\n",
              "      <td>TL4S76ozM60</td>\n",
              "      <td>16892</td>\n",
              "    </tr>\n",
              "    <tr>\n",
              "      <th>2020-03-24 10:13:40+05:30</th>\n",
              "      <td>128</td>\n",
              "      <td>Coming soon</td>\n",
              "      <td>24 Mar, 20</td>\n",
              "      <td>eLLBm5Ni708</td>\n",
              "      <td>167311</td>\n",
              "    </tr>\n",
              "    <tr>\n",
              "      <th>2020-03-24 05:53:36+05:30</th>\n",
              "      <td>129</td>\n",
              "      <td>Later night chess with friends - Sumit Sourav</td>\n",
              "      <td>24 Mar, 20</td>\n",
              "      <td>lwuZ_gEX3mk</td>\n",
              "      <td>17906</td>\n",
              "    </tr>\n",
              "    <tr>\n",
              "      <th>2020-03-24 03:45:50+05:30</th>\n",
              "      <td>130</td>\n",
              "      <td>PUBG with Ojas</td>\n",
              "      <td>24 Mar, 20</td>\n",
              "      <td>6JX7VfiYEMc</td>\n",
              "      <td>19444</td>\n",
              "    </tr>\n",
              "    <tr>\n",
              "      <th>2020-03-23 07:26:23+05:30</th>\n",
              "      <td>131</td>\n",
              "      <td>Later night chess with friends - Balraj Ghai</td>\n",
              "      <td>23 Mar, 20</td>\n",
              "      <td>oufJKZur8qM</td>\n",
              "      <td>27495</td>\n",
              "    </tr>\n",
              "  </tbody>\n",
              "</table>\n",
              "<p>132 rows × 5 columns</p>\n",
              "</div>"
            ],
            "text/plain": [
              "                           position  ...   views\n",
              "date                                 ...        \n",
              "2020-07-17 11:17:30+05:30         0  ...  111208\n",
              "2020-07-16 12:00:13+05:30         1  ...  102524\n",
              "2020-07-15 20:54:05+05:30         2  ...  279778\n",
              "2020-07-14 17:34:53+05:30         3  ...   92365\n",
              "2020-07-13 21:49:12+05:30         4  ...  122279\n",
              "...                             ...  ...     ...\n",
              "2020-03-25 03:58:51+05:30       127  ...   16892\n",
              "2020-03-24 10:13:40+05:30       128  ...  167311\n",
              "2020-03-24 05:53:36+05:30       129  ...   17906\n",
              "2020-03-24 03:45:50+05:30       130  ...   19444\n",
              "2020-03-23 07:26:23+05:30       131  ...   27495\n",
              "\n",
              "[132 rows x 5 columns]"
            ]
          },
          "metadata": {
            "tags": []
          },
          "execution_count": 25
        }
      ]
    },
    {
      "cell_type": "code",
      "metadata": {
        "id": "ymIdseinSKG-"
      },
      "source": [
        "df = df[::-1]"
      ],
      "execution_count": null,
      "outputs": []
    },
    {
      "cell_type": "code",
      "metadata": {
        "id": "P8j-gGlVvC0F",
        "colab": {
          "base_uri": "https://localhost:8080/",
          "height": 265
        },
        "outputId": "fd012db3-fa02-49c7-b11d-d96cfb526dc5"
      },
      "source": [
        "import matplotlib.pyplot as plt\n",
        "\n",
        "fig, ax = plt.subplots()\n",
        "ax.plot(df.index, df['views'])\n",
        "ax.xaxis.set_major_locator(plt.MaxNLocator(5))\n",
        "ax.yaxis.set_major_locator(plt.LinearLocator(numticks = 10))"
      ],
      "execution_count": null,
      "outputs": [
        {
          "output_type": "display_data",
          "data": {
            "image/png": "[encoded data removed]",
            "text/plain": [
              "<Figure size 432x288 with 1 Axes>"
            ]
          },
          "metadata": {
            "tags": [],
            "needs_background": "light"
          }
        }
      ]
    },
    {
      "cell_type": "code",
      "metadata": {
        "id": "0uwv6WkhY9Ph",
        "colab": {
          "base_uri": "https://localhost:8080/",
          "height": 308
        },
        "outputId": "a6161658-9dbe-45f4-e43b-604ae69452a2"
      },
      "source": [
        "chess_path = '/content/drive/My Drive/chess'\n",
        "chess_df = pd.read_csv(chess_path+'/chess.csv', skiprows=1)\n",
        "chess_df = chess_df.set_index(pd.to_datetime(chess_df['Week'])).drop('Week', axis = 1)\n",
        "chess_df.plot()"
      ],
      "execution_count": null,
      "outputs": [
        {
          "output_type": "execute_result",
          "data": {
            "text/plain": [
              "<matplotlib.axes._subplots.AxesSubplot at 0x7fc254e49160>"
            ]
          },
          "metadata": {
            "tags": []
          },
          "execution_count": 83
        },
        {
          "output_type": "display_data",
          "data": {
            "image/png": "[encoded data removed]",
            "text/plain": [
              "<Figure size 432x288 with 1 Axes>"
            ]
          },
          "metadata": {
            "tags": [],
            "needs_background": "light"
          }
        }
      ]
    },
    {
      "cell_type": "code",
      "metadata": {
        "id": "2hghvGppbCY1",
        "colab": {
          "base_uri": "https://localhost:8080/",
          "height": 308
        },
        "outputId": "b855feeb-3d53-42a2-9f95-713d040ca181"
      },
      "source": [
        "chesscom_df = pd.read_csv(chess_path+'/chesscom.csv', skiprows=1)\n",
        "chesscom_df = chesscom_df.set_index(pd.to_datetime(chesscom_df['Week'])).drop('Week', axis = 1)\n",
        "chesscom_df.plot()"
      ],
      "execution_count": null,
      "outputs": [
        {
          "output_type": "execute_result",
          "data": {
            "text/plain": [
              "<matplotlib.axes._subplots.AxesSubplot at 0x7fc25776d080>"
            ]
          },
          "metadata": {
            "tags": []
          },
          "execution_count": 77
        },
        {
          "output_type": "display_data",
          "data": {
            "image/png": "[encoded data removed]",
            "text/plain": [
              "<Figure size 432x288 with 1 Axes>"
            ]
          },
          "metadata": {
            "tags": [],
            "needs_background": "light"
          }
        }
      ]
    },
    {
      "cell_type": "code",
      "metadata": {
        "id": "L6V4gpcTbL18",
        "colab": {
          "base_uri": "https://localhost:8080/",
          "height": 308
        },
        "outputId": "cd1fb51e-0b1e-4d8d-a970-1b40516915b6"
      },
      "source": [
        "lichess_df = pd.read_csv(chess_path+'/lichess.csv', skiprows=1)\n",
        "lichess_df = lichess_df.set_index(pd.to_datetime(lichess_df['Week'])).drop('Week', axis = 1)\n",
        "lichess_df.plot()"
      ],
      "execution_count": null,
      "outputs": [
        {
          "output_type": "execute_result",
          "data": {
            "text/plain": [
              "<matplotlib.axes._subplots.AxesSubplot at 0x7fc254fa3470>"
            ]
          },
          "metadata": {
            "tags": []
          },
          "execution_count": 78
        },
        {
          "output_type": "display_data",
          "data": {
            "image/png": "[encoded data removed]",
            "text/plain": [
              "<Figure size 432x288 with 1 Axes>"
            ]
          },
          "metadata": {
            "tags": [],
            "needs_background": "light"
          }
        }
      ]
    },
    {
      "cell_type": "code",
      "metadata": {
        "id": "YuREvUuIbU2O"
      },
      "source": [
        ""
      ],
      "execution_count": null,
      "outputs": []
    }
  ]
}
